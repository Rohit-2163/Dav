{
 "cells": [
  {
   "cell_type": "markdown",
   "id": "9bceef59-6d0a-4359-aabe-9b5efeeb70f3",
   "metadata": {},
   "source": [
    "## <span style=\"color:#4a4e69\">PRACTICAL 01 </span>"
   ]
  },
  {
   "cell_type": "code",
   "execution_count": null,
   "id": "f5a95eaa",
   "metadata": {},
   "outputs": [],
   "source": []
  },
  {
   "cell_type": "markdown",
   "id": "97e1dbfc-d4c5-465d-9b96-77ed51098aee",
   "metadata": {},
   "source": [
    "##### QUES 1. Given below is a dixtionary having two keys 'Boys' and 'Girls' and having two lists of heights of five Boys and Five Girls respectively as a values associated with these keys.\n",
    "\n",
    "#### <span style=\"color:green\">Original dictionary of list : { 'Boys':[72,68,70,69,74] , 'Girls':[63,65,69,62,61] } </span>\n",
    "\n",
    "##### From the given dictionary of list create the following list of dictionaries:\n",
    "\n",
    "#### <span style=\"color:green\"> [{'Boys':72,'Girls':63},{'Boys':68,'Girls':65},{'Boys':70,'Girls':69},{'Boys':69,'Girls':62},{'Boys':74,'Girls':61}] </span>"
   ]
  },
  {
   "cell_type": "code",
   "execution_count": 1,
   "id": "1ca084e0-1cd4-4bbc-a2b6-b33f9eb328f8",
   "metadata": {},
   "outputs": [
    {
     "name": "stdout",
     "output_type": "stream",
     "text": [
      "Resulting List :\n",
      "[{'Boys': 72, 'Girls': 63}, {'Boys': 68, 'Girls': 65}, {'Boys': 70, 'Girls': 69}, {'Boys': 69, 'Girls': 62}, {'Boys': 74, 'Girls': 61}]\n"
     ]
    }
   ],
   "source": [
    "org_dict={'Boys':[72,68,70,69,74] ,'Girls':[63,65,69,62,61]}\n",
    "\n",
    "conv_list=[] #created a empty list\n",
    "\n",
    "#============main code=====================#\n",
    "for b , g in zip(org_dict['Boys'],org_dict['Girls']):\n",
    "    conv_list.append(\n",
    "        {\n",
    "            \"Boys\":b,\n",
    "            \"Girls\":g\n",
    "        })\n",
    "\n",
    "#=========printing the result=============#\n",
    "print(\"Resulting List :\")\n",
    "print(conv_list)"
   ]
  }
 ],
 "metadata": {
  "kernelspec": {
   "display_name": "Python 3 (ipykernel)",
   "language": "python",
   "name": "python3"
  },
  "language_info": {
   "codemirror_mode": {
    "name": "ipython",
    "version": 3
   },
   "file_extension": ".py",
   "mimetype": "text/x-python",
   "name": "python",
   "nbconvert_exporter": "python",
   "pygments_lexer": "ipython3",
   "version": "3.11.4"
  }
 },
 "nbformat": 4,
 "nbformat_minor": 5
}
